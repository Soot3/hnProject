{
 "cells": [
  {
   "cell_type": "markdown",
   "metadata": {
    "collapsed": true
   },
   "source": [
    "# Hacker News Analysis\n",
    "\n",
    "Looking at data exported from the posts on the hn website.\n",
    "### Breakdown of columns\n",
    "    \n",
    "- id: The unique identifier from Hacker News for the post\n",
    "- title: The title of the post\n",
    "- url: The URL that the posts links to, if it the post has a URL\n",
    "- num_points: The number of points the post acquired, calculated as the total number of upvotes minus the total number of downvotes\n",
    "- num_comments: The number of comments that were made on the post\n",
    "- author: The username of the person who submitted the post\n",
    "- created_at: The date and time at which the post was submitted\n",
    "\n",
    "We are focused on posts with the Show HN or Ask HN title tags as they are directed at the core hacker news library"
   ]
  },
  {
   "cell_type": "code",
   "execution_count": 4,
   "metadata": {
    "collapsed": false
   },
   "outputs": [
    {
     "name": "stdout",
     "output_type": "stream",
     "text": [
      "['id', 'title', 'url', 'num_points', 'num_comments', 'author', 'created_at']\n",
      "\n",
      "\n",
      "['12224879', 'Interactive Dynamic Video', 'http://www.interactivedynamicvideo.com/', '386', '52', 'ne0phyte', '8/4/2016 11:52']\n",
      "\n",
      "\n",
      "['10975351', 'How to Use Open Source and Shut the Fuck Up at the Same Time', 'http://hueniverse.com/2016/01/26/how-to-use-open-source-and-shut-the-fuck-up-at-the-same-time/', '39', '10', 'josep2', '1/26/2016 19:30']\n",
      "\n",
      "\n",
      "['11964716', \"Florida DJs May Face Felony for April Fools' Water Joke\", 'http://www.thewire.com/entertainment/2013/04/florida-djs-april-fools-water-joke/63798/', '2', '1', 'vezycash', '6/23/2016 22:20']\n",
      "\n",
      "\n",
      "['11919867', 'Technology ventures: From Idea to Enterprise', 'https://www.amazon.com/Technology-Ventures-Enterprise-Thomas-Byers/dp/0073523429', '3', '1', 'hswarna', '6/17/2016 0:01']\n",
      "\n",
      "\n",
      "['10301696', 'Note by Note: The Making of Steinway L1037 (2007)', 'http://www.nytimes.com/2007/11/07/movies/07stein.html?_r=0', '8', '2', 'walterbell', '9/30/2015 4:12']\n",
      "\n",
      "\n"
     ]
    }
   ],
   "source": [
    "#Opening and parsing the csv file\n",
    "opened_file = open('hacker_news.csv')\n",
    "from csv import reader\n",
    "read_file = reader(opened_file)\n",
    "hn = list(read_file)\n",
    "#Printing the first five rows of data\n",
    "for row in hn[:6]:\n",
    "    print(row)\n",
    "    print('\\n')"
   ]
  },
  {
   "cell_type": "code",
   "execution_count": 5,
   "metadata": {
    "collapsed": false
   },
   "outputs": [
    {
     "name": "stdout",
     "output_type": "stream",
     "text": [
      "['12224879', 'Interactive Dynamic Video', 'http://www.interactivedynamicvideo.com/', '386', '52', 'ne0phyte', '8/4/2016 11:52']\n",
      "\n",
      "\n",
      "['10975351', 'How to Use Open Source and Shut the Fuck Up at the Same Time', 'http://hueniverse.com/2016/01/26/how-to-use-open-source-and-shut-the-fuck-up-at-the-same-time/', '39', '10', 'josep2', '1/26/2016 19:30']\n",
      "\n",
      "\n",
      "['11964716', \"Florida DJs May Face Felony for April Fools' Water Joke\", 'http://www.thewire.com/entertainment/2013/04/florida-djs-april-fools-water-joke/63798/', '2', '1', 'vezycash', '6/23/2016 22:20']\n",
      "\n",
      "\n",
      "['11919867', 'Technology ventures: From Idea to Enterprise', 'https://www.amazon.com/Technology-Ventures-Enterprise-Thomas-Byers/dp/0073523429', '3', '1', 'hswarna', '6/17/2016 0:01']\n",
      "\n",
      "\n",
      "['10301696', 'Note by Note: The Making of Steinway L1037 (2007)', 'http://www.nytimes.com/2007/11/07/movies/07stein.html?_r=0', '8', '2', 'walterbell', '9/30/2015 4:12']\n",
      "\n",
      "\n"
     ]
    }
   ],
   "source": [
    "#Removing the header row from the dataset\n",
    "header = hn[:1]\n",
    "hn = hn[1:]\n",
    "\n",
    "for row in hn[:5]:\n",
    "    print(row)\n",
    "    print('\\n')\n",
    "    "
   ]
  },
  {
   "cell_type": "markdown",
   "metadata": {},
   "source": [
    "# Filtering Rows\n",
    "\n",
    "In order to analyze the core hn data, we need to limit our selection to titles that start with either 'Ask HN' or 'Show HN'"
   ]
  },
  {
   "cell_type": "code",
   "execution_count": 14,
   "metadata": {
    "collapsed": false
   },
   "outputs": [
    {
     "name": "stdout",
     "output_type": "stream",
     "text": [
      "The number of posts starting with \"Ask HN\" is 1744\n",
      "The number of posts starting with \"Show HN\" is 1162\n",
      "The no of posts that don't start with either \"Ask HN\" or \"Show HN\" is 17194\n"
     ]
    }
   ],
   "source": [
    "ask_posts = []\n",
    "show_posts = []\n",
    "other_posts = []\n",
    "\n",
    "for row in hn:\n",
    "    Title = row[1]\n",
    "    title = Title.lower()\n",
    "    if title.startswith('ask hn'):\n",
    "        ask_posts.append(row)\n",
    "    elif title.startswith('show hn'):\n",
    "        show_posts.append(row)\n",
    "    else:\n",
    "        other_posts.append(row)\n",
    "        \n",
    "print('The number of posts starting with \"Ask HN\" is',len(ask_posts))\n",
    "print('The number of posts starting with \"Show HN\" is',len(show_posts))\n",
    "print('The no of posts that don\\'t start with either \"Ask HN\" or \"Show HN\" is', len(other_posts))"
   ]
  },
  {
   "cell_type": "markdown",
   "metadata": {},
   "source": [
    "After filtering the posts out, we can begin exploring our desired datasets. First, a comparison between posts with 'Ask HN' and 'Show HN', focusing on how many comments they get on average."
   ]
  },
  {
   "cell_type": "code",
   "execution_count": 15,
   "metadata": {
    "collapsed": false
   },
   "outputs": [
    {
     "name": "stdout",
     "output_type": "stream",
     "text": [
      "The average number of comments starting with \"Ask HN\" is  14.038417431192661\n",
      "The average number of comments starting with \"Show HN\" is  10.31669535283993\n"
     ]
    }
   ],
   "source": [
    "total_ask_comments = 0\n",
    "total_show_comments = 0\n",
    "\n",
    "for row in ask_posts:\n",
    "    num_comments = row[4]\n",
    "    total_ask_comments += int(num_comments)\n",
    "\n",
    "avg_ask_comments = total_ask_comments/len(ask_posts)\n",
    "\n",
    "for row in show_posts:\n",
    "    num_comments = row[4]\n",
    "    total_show_comments += int(num_comments)\n",
    "\n",
    "avg_show_comments = total_show_comments/len(show_posts)\n",
    "\n",
    "print('The average number of comments starting with \"Ask HN\" is ', avg_ask_comments)\n",
    "print('The average number of comments starting with \"Show HN\" is ', avg_show_comments)\n",
    "    "
   ]
  },
  {
   "cell_type": "markdown",
   "metadata": {},
   "source": [
    "From the analysis above, we see posts starting with 'Ask HN' have a higher number of comments on average. With this, we can filter our exploration more by focusing on 'ask posts' as they are more likely to receive comments."
   ]
  },
  {
   "cell_type": "code",
   "execution_count": 33,
   "metadata": {
    "collapsed": false
   },
   "outputs": [],
   "source": [
    "import datetime as dt\n",
    "result_list = []\n",
    "for row in ask_posts:\n",
    "    created_at = row[6]\n",
    "    num_comments = int(row[4])\n",
    "    result_list.append([created_at, num_comments])\n",
    "    \n",
    "count_by_hour = {}\n",
    "comments_by_hour = {}\n",
    "for row in result_list:\n",
    "    comment = row[1]\n",
    "    date = row[0]\n",
    "    date = dt.datetime.strptime(date, \"%m/%d/%Y %H:%M\")\n",
    "    hour = date.strftime(\"%H\")\n",
    "    if hour not in count_by_hour:\n",
    "        count_by_hour[hour] = 1\n",
    "        comments_by_hour[hour] = comment\n",
    "    else:\n",
    "        count_by_hour[hour] += 1\n",
    "        comments_by_hour[hour] += comment"
   ]
  },
  {
   "cell_type": "code",
   "execution_count": 41,
   "metadata": {
    "collapsed": false
   },
   "outputs": [
    {
     "name": "stdout",
     "output_type": "stream",
     "text": [
      "[['14', 13.2], ['04', 7.2], ['16', 16.8], ['10', 13.4], ['03', 7.8], ['18', 13.2], ['12', 9.4], ['15', 38.6], ['20', 21.5], ['23', 8.0], ['22', 6.7], ['13', 14.7], ['02', 23.8], ['06', 9.0], ['07', 7.9], ['01', 11.4], ['09', 5.6], ['17', 11.5], ['11', 11.1], ['19', 10.8], ['05', 10.1], ['08', 10.2], ['21', 16.0], ['00', 8.1]]\n",
      "24\n"
     ]
    }
   ],
   "source": [
    "avg_by_hour = []\n",
    "for hour in count_by_hour:\n",
    "    avg = comments_by_hour[hour]/count_by_hour[hour]\n",
    "    avg_by_hour.append([hour, round(avg, 1)])\n",
    "    \n",
    "print(avg_by_hour)\n",
    "print(len(avg_by_hour))"
   ]
  },
  {
   "cell_type": "markdown",
   "metadata": {},
   "source": [
    "The analysis above shows the average number of comments per post for posts created during each hour of the day.\n",
    "The next step is to arrange the values in ways that can be easily visualized and interpreted"
   ]
  },
  {
   "cell_type": "code",
   "execution_count": 43,
   "metadata": {
    "collapsed": false
   },
   "outputs": [
    {
     "name": "stdout",
     "output_type": "stream",
     "text": [
      "[[13.2, '14'], [7.2, '04'], [16.8, '16'], [13.4, '10'], [7.8, '03'], [13.2, '18'], [9.4, '12'], [38.6, '15'], [21.5, '20'], [8.0, '23'], [6.7, '22'], [14.7, '13'], [23.8, '02'], [9.0, '06'], [7.9, '07'], [11.4, '01'], [5.6, '09'], [11.5, '17'], [11.1, '11'], [10.8, '19'], [10.1, '05'], [10.2, '08'], [16.0, '21'], [8.1, '00']]\n",
      "Top 5 Hours for Ask Posts Comments\n",
      "15:00: 38.6 average comments per post\n",
      "02:00: 23.8 average comments per post\n",
      "20:00: 21.5 average comments per post\n",
      "16:00: 16.8 average comments per post\n",
      "21:00: 16.0 average comments per post\n"
     ]
    }
   ],
   "source": [
    "swap_avg_by_hour = []\n",
    "for row in avg_by_hour:\n",
    "    swap1 = row[1]\n",
    "    swap2 = row[0]\n",
    "    swap_avg_by_hour.append([swap1, swap2])\n",
    "    \n",
    "print(swap_avg_by_hour)\n",
    "\n",
    "sorted_swap = sorted(swap_avg_by_hour, reverse = True)\n",
    "print('Top 5 Hours for Ask Posts Comments')\n",
    "for row in sorted_swap[:5]:\n",
    "    template = '{0}:00: {1} average comments per post'\n",
    "    store = template.format(row[1], row[0])\n",
    "    print(store)"
   ]
  },
  {
   "cell_type": "markdown",
   "metadata": {},
   "source": [
    "# Findings\n",
    "\n",
    "15:00 or 3pm is the optimal time to publish Ask Posts where comments are needed or expected on the Hacker News website"
   ]
  }
 ],
 "metadata": {
  "kernelspec": {
   "display_name": "Python 3",
   "language": "python",
   "name": "python3"
  },
  "language_info": {
   "codemirror_mode": {
    "name": "ipython",
    "version": 3
   },
   "file_extension": ".py",
   "mimetype": "text/x-python",
   "name": "python",
   "nbconvert_exporter": "python",
   "pygments_lexer": "ipython3",
   "version": "3.4.3"
  }
 },
 "nbformat": 4,
 "nbformat_minor": 2
}
